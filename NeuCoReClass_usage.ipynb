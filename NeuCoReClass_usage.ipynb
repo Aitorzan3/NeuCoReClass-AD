{
 "cells": [
  {
   "cell_type": "markdown",
   "id": "cd7a57a7",
   "metadata": {},
   "source": [
    "# Welcome to NeuCoReClass AD 🚀\n",
    "\n",
    "This notebook is a friendly introduction to using NeuCoReClass-AD for time series anomaly detection. Here, you will learn step by step how to:\n",
    "\n",
    "📂 Load your data\n",
    "\n",
    "⚙️ Set the hyperparameters of the method\n",
    "\n",
    "⚡ Launch experiments and evaluate results\n",
    "\n",
    "The goal is to give you a quick and practical walkthrough so you can easily apply NeuCoReClass AD to any dataset.\n",
    "\n",
    "👉 It's very simple, so let's get started!"
   ]
  },
  {
   "cell_type": "markdown",
   "id": "8ca1aa83",
   "metadata": {},
   "source": [
    "## Load Resources 🛠️\n",
    "\n",
    "The code required to use NeuCoReClass-AD can be imported from the following modules and scripts:"
   ]
  },
  {
   "cell_type": "code",
   "execution_count": 1,
   "id": "ff90034a",
   "metadata": {},
   "outputs": [],
   "source": [
    "from models import *\n",
    "from datasets import *\n",
    "from utils import *"
   ]
  },
  {
   "cell_type": "markdown",
   "id": "f435ee7f",
   "metadata": {},
   "source": [
    "## Load Data 💾\n",
    "\n",
    "For the experiments, we will use datasets from the UCR Time Series Classification Archive.\n",
    "Data loading is handled with the aeon library through a helper function we provide, called get_dataset().\n",
    "\n",
    "When loading a dataset, you will need to specify:\n",
    "\n",
    "- dataset: the name of the dataset to load\n",
    "\n",
    "- normal: which class is considered the normal one\n",
    "\n",
    "- reverse: defines how anomalies are assigned. Two possible values:\n",
    "\n",
    "    * False: the class defined in normal is treated as normal, and all others are anomalies\n",
    "\n",
    "    * True: all classes except the one defined in normal are treated as normal, and that class is considered anomalous\n",
    "\n",
    "The function get_dataset() returns:\n",
    "\n",
    "- dataset: name of the dataset loaded\n",
    "\n",
    "- train_data: training samples (only from the normal class)\n",
    "\n",
    "- test_data: test samples (all classes included)\n",
    "\n",
    "- test_labels: binary labels for evaluation (1 = normal, 0 = anomalous)\n",
    "\n",
    "- real_labels: the original class names of the test samples\n",
    "\n",
    "👉 Additionally, the function also prints information about the existing classes in the dataset, clearly indicating which ones have been defined as normal and which as abnormal."
   ]
  },
  {
   "cell_type": "code",
   "execution_count": 2,
   "id": "20cc188f",
   "metadata": {},
   "outputs": [
    {
     "name": "stdout",
     "output_type": "stream",
     "text": [
      "Problem name:  epilepsy\n",
      "Existing Classes:  ['epilepsy', 'walking', 'running', 'sawing']\n",
      "Normal Class(es):  ['sawing']\n",
      "Anomalous Class(es):  ['epilepsy' 'running' 'walking']\n"
     ]
    }
   ],
   "source": [
    "dataset, train_data, test_data, test_labels, real_labels  = get_dataset(dataset=\"Epilepsy\", normal=\"sawing\", reverse=False)"
   ]
  },
  {
   "cell_type": "markdown",
   "id": "aa69f32a",
   "metadata": {},
   "source": [
    "Now we split 90% of the training data for actual training, and keep the remaining 10% as a validation set (to help prevent overfitting). This way, the model can be trained on the majority of the normal samples while still having a small subset for validation and hyperparameter tuning."
   ]
  },
  {
   "cell_type": "code",
   "execution_count": 3,
   "id": "e7ed0a65",
   "metadata": {},
   "outputs": [],
   "source": [
    "train_size = int(0.9 * len(train_data))\n",
    "val_size = len(train_data) - train_size\n",
    "train_dataset, val_dataset = random_split(train_data, [train_size, val_size])"
   ]
  },
  {
   "cell_type": "markdown",
   "id": "ee67ccfe",
   "metadata": {},
   "source": [
    "## Instantiate, train and evaluate NeuCoReClass AD\n",
    "\n",
    "The next step is to instantiate the NeuCoReClass-AD model, train it on the normal data, and finally evaluate its performance on the test set. \n",
    "\n",
    "Experiments of NeuCoReClass AD rely on a set of hyperparameters that control both the training process and the behavior of the model:\n",
    "\n",
    "- n_transforms: number of neural transformations applied (default: 12)\n",
    "\n",
    "- measure: similarity measure used for contrastive learning (default: \"cosine\")\n",
    "\n",
    "- temperature: scaling factor for the contrastive loss (default: 0.1)\n",
    "\n",
    "- batch_size: size of the mini-batches during training (default: 32)\n",
    "\n",
    "\n",
    "The NeuCoReClass-AD object also requires additional parameters when being instantiated, including:\n",
    "\n",
    "- input_dims: the number of features in the original time series\n",
    "\n",
    "- train_data: the partition of normal data used for training\n",
    "\n",
    "- val_data: the partition of normal data used for validation\n",
    "\n",
    "- test_data: the data used for evaluation (including both normal and anomalous samples)"
   ]
  },
  {
   "cell_type": "code",
   "execution_count": 5,
   "id": "2881316d",
   "metadata": {},
   "outputs": [],
   "source": [
    "#  We will use the default values for the hyperparameters of NeuCoReClass AD.\n",
    "\n",
    "input_dims = train_data[0].shape[1]\n",
    "model = Experiment(input_dims = input_dims, \n",
    "                   train_data = train_dataset, \n",
    "                   val_data = val_dataset, \n",
    "                   test_data = test_data, \n",
    "                   n_transforms = 12, \n",
    "                   temperature = 0.1, \n",
    "                   batch_size = 32, \n",
    "                   measure = \"cosine\").to(device)\n"
   ]
  },
  {
   "cell_type": "markdown",
   "id": "d0e60929",
   "metadata": {},
   "source": [
    "Then, we train the model. For this step, we need to fix two key hyperparameters:\n",
    "\n",
    "- max_epochs: maximum number of training epochs (default: 1000)\n",
    "- verbose: whether to print detailed training logs (default: False)\n",
    "\n",
    "This function returns a list denoting the evolution of the training loss"
   ]
  },
  {
   "cell_type": "code",
   "execution_count": 7,
   "id": "24534d6e",
   "metadata": {},
   "outputs": [
    {
     "name": "stdout",
     "output_type": "stream",
     "text": [
      "Epoch #0: loss=4.031190872192383, val_loss=3.9424713452657065\n"
     ]
    }
   ],
   "source": [
    "# We set the number of epochs as \n",
    "loss_log = model.train_model(max_epochs=1, verbose=True)"
   ]
  },
  {
   "cell_type": "markdown",
   "id": "e0c519f0",
   "metadata": {},
   "source": [
    "Finally, we evaluate the model on the evaluation set, computing two standard metrics for anomaly detection:\n",
    "\n",
    "- AUROC (Area Under the Receiver Operating Characteristic Curve)\n",
    "\n",
    "- AUPR (Area Under the Precision–Recall Curve)\n",
    "\n",
    "These metrics provide a reliable assessment of the model’s ability to distinguish between normal and anomalous sequences."
   ]
  },
  {
   "cell_type": "code",
   "execution_count": 8,
   "id": "92f57f8d",
   "metadata": {},
   "outputs": [
    {
     "name": "stdout",
     "output_type": "stream",
     "text": [
      "AUROC:  0.8817901234567901\n",
      "AUPR:  0.9683922358554421\n"
     ]
    }
   ],
   "source": [
    "model.eval()\n",
    "scores = model.compute_scores()\n",
    "auroc, aupr = metrics(scores, test_labels)\n",
    "\n",
    "print(\"AUROC: \", auroc)\n",
    "print(\"AUPR: \", aupr)"
   ]
  },
  {
   "cell_type": "markdown",
   "id": "3390ec84",
   "metadata": {},
   "source": [
    "# One-Click Experiments with run_experiment() ⚡\n",
    "\n",
    "If you prefer not to go through each step manually, NeuCoReClass-AD provides a convenient function called run_experiment() (available in NeuCoReClassAD.py).\n",
    "This function takes as input a dictionary of hyperparameters — including all the ones mentioned earlier, plus a seed for reproducibility — and automatically:\n",
    "\n",
    "1. Instantiates the model\n",
    "\n",
    "2. Trains it using the specified parameters\n",
    "\n",
    "3. Evaluates its performance on the test set\n",
    "\n",
    "👉 With a single call, you can run a complete experiment end-to-end."
   ]
  },
  {
   "cell_type": "code",
   "execution_count": 9,
   "id": "da1d338d",
   "metadata": {},
   "outputs": [
    {
     "name": "stdout",
     "output_type": "stream",
     "text": [
      "Problem name:  epilepsy\n",
      "Existing Classes:  ['epilepsy', 'walking', 'running', 'sawing']\n",
      "Normal Class(es):  ['sawing']\n",
      "Anomalous Class(es):  ['epilepsy' 'running' 'walking']\n",
      "training time:  0.004962444305419922\n",
      "inference time:  12.714001417160034\n",
      "AUROC:  0.8919753086419753\n",
      "AUPR:  0.9734353777122342\n"
     ]
    }
   ],
   "source": [
    "from NeuCoReClassAD import * \n",
    "\n",
    "hyperparameters = {\n",
    "        \"dataset\": \"Epilepsy\",\n",
    "        \"normality\": 'sawing',\n",
    "        \"reverse\": False,\n",
    "        \"n_transforms\":12,\n",
    "        \"measure\":\"cosine\",\n",
    "        \"temperature\":0.1,\n",
    "        \"max_epochs\": 0,\n",
    "        \"batch_size\":32,\n",
    "        \"verbose\":True,\n",
    "        \"seed\": 123,\n",
    "        }\n",
    "\n",
    "run_experiment(hyperparameters)"
   ]
  },
  {
   "cell_type": "markdown",
   "id": "5df9f039",
   "metadata": {},
   "source": [
    "# Wrapping Up  🎉\n",
    "\n",
    "With this notebook, you now have a complete guide to using NeuCoReClass-AD — from loading data and setting hyperparameters, to training, evaluating, and even running full experiments automatically. This framework is designed to be simple, flexible, and extensible, so you can easily adapt it to your own time series anomaly detection tasks.\n",
    "\n",
    "Feel free to experiment with different datasets, tweak the hyperparameters, and explore how NeuCoReClass-AD performs in diverse scenarios :)"
   ]
  }
 ],
 "metadata": {
  "kernelspec": {
   "display_name": "Python 3",
   "language": "python",
   "name": "python3"
  },
  "language_info": {
   "codemirror_mode": {
    "name": "ipython",
    "version": 3
   },
   "file_extension": ".py",
   "mimetype": "text/x-python",
   "name": "python",
   "nbconvert_exporter": "python",
   "pygments_lexer": "ipython3",
   "version": "3.11.9"
  }
 },
 "nbformat": 4,
 "nbformat_minor": 5
}
